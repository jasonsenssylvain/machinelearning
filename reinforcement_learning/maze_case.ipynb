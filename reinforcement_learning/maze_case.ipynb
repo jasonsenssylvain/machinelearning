{
 "cells": [
  {
   "cell_type": "code",
   "execution_count": 3,
   "id": "d041f2ab",
   "metadata": {},
   "outputs": [],
   "source": [
    "#导入所使用的包\n",
    "import numpy as np\n",
    "import matplotlib.pyplot as plt\n",
    "%matplotlib inline"
   ]
  },
  {
   "cell_type": "code",
   "execution_count": 4,
   "id": "6d798197",
   "metadata": {},
   "outputs": [
    {
     "data": {
      "image/png": "[encoded data removed]",
      "text/plain": [
       "<Figure size 500x500 with 1 Axes>"
      ]
     },
     "metadata": {},
     "output_type": "display_data"
    }
   ],
   "source": [
    "# 迷宫的初始位置\n",
    "\n",
    "# 声明图的大小以及图的变量名\n",
    "fig = plt.figure(figsize=(5,5))\n",
    "ax = plt.gca()# 画出红色的墙壁\n",
    "\n",
    "\n",
    "plt.plot([1,1], [0,1], color = 'red', linewidth = 2)\n",
    "plt.plot([1,2], [2,2], color = 'red', linewidth = 2)\n",
    "plt.plot([2,2], [2,1], color = 'red', linewidth = 2)\n",
    "plt.plot([2,3], [1,1], color = 'red', linewidth = 2)\n",
    "\n",
    "# 画出表示状态的文字SØ~S8\n",
    "plt.text(0.5,2.5, 'S0', size = 14, ha = 'center')\n",
    "plt.text(1.5,2.5, 'S1', size = 14, ha = 'center')\n",
    "plt.text(2.5,2.5, 'S2', size = 14, ha = 'center')\n",
    "plt.text(0.5,1.5, 'S3', size = 14, ha = 'center')\n",
    "plt.text(1.5,1.5, 'S4', size = 14, ha = 'center')\n",
    "plt.text(2.5,1.5, 'S5', size = 14, ha = 'center')\n",
    "plt.text(0.5,0.5, 'S6', size = 14, ha = 'center')\n",
    "plt.text(1.5,0.5, 'S7', size = 14, ha = 'center')\n",
    "plt.text(2.5,0.5, 'S8', size = 14, ha = 'center')\n",
    "plt.text(0.5,2.3, 'START', ha = 'center')\n",
    "plt.text(2.5,0.3, 'GOAL', ha = 'center')\n",
    "\n",
    "# 设定画图的范围\n",
    "ax.set_xlim(0,3)\n",
    "ax.set_ylim(0,3)\n",
    "plt.tick_params(axis = 'both', which = 'both', bottom = 'off', top = 'off',         \n",
    " labelbottom = 'off', right = 'ff', left = 'off', labelleft = 'off')\n",
    "\n",
    "# 当前位置SØ用绿色圆圈画出\n",
    "line,  = ax.plot([0.5], [2.5], marker = \"o\", color = 'g', markersize = 60)\n",
    "\n",
    "line,  = ax.plot([2.5], [0.5], marker = \"o\", color = 'b', markersize = 60)"
   ]
  },
  {
   "cell_type": "code",
   "execution_count": 5,
   "id": "09c68540",
   "metadata": {},
   "outputs": [],
   "source": [
    "# 行为状态0~7，列为用↑、→、↓、←表示的移动方\n",
    "theta_0 = np.array([[np.nan, 1, 1, np.nan], # S0\n",
    "                    [np.nan, 1, np.nan, 1], # S1\n",
    "                    [np.nan, np.nan, 1, 1], # S2\n",
    "                    [1, 1, 1, np.nan], # S3\n",
    "                    [np.nan, np.nan, 1, 1], # S4\n",
    "                    [1, np.nan, np.nan, np.nan], # S5\n",
    "                    [1, np.nan, np.nan, np.nan], # S6\n",
    "                    [1, 1, np.nan, np.nan], # S7\n",
    "])"
   ]
  },
  {
   "cell_type": "code",
   "execution_count": 6,
   "id": "d6909170",
   "metadata": {},
   "outputs": [
    {
     "data": {
      "text/plain": [
       "array([[0.        , 0.5       , 0.5       , 0.        ],\n",
       "       [0.        , 0.5       , 0.        , 0.5       ],\n",
       "       [0.        , 0.        , 0.5       , 0.5       ],\n",
       "       [0.33333333, 0.33333333, 0.33333333, 0.        ],\n",
       "       [0.        , 0.        , 0.5       , 0.5       ],\n",
       "       [1.        , 0.        , 0.        , 0.        ],\n",
       "       [1.        , 0.        , 0.        , 0.        ],\n",
       "       [0.5       , 0.5       , 0.        , 0.        ]])"
      ]
     },
     "execution_count": 6,
     "metadata": {},
     "output_type": "execute_result"
    }
   ],
   "source": [
    "# 将策略参数θ转换为行动策略π的函数的定义\n",
    "def simple_convert_into_pi_from_theta(theta):\n",
    "    '''简单的计算转换函数'''\n",
    "    [m, n] = theta.shape # 获取theta的行列数\n",
    "    pi = np.zeros((m, n))\n",
    "    for i in range(0, m):\n",
    "        pi[i, :] = theta[i, :] / np.nansum(theta[i, :])\n",
    "    pi = np.nan_to_num(pi)\n",
    "    return pi\n",
    "\n",
    "pi_0 = simple_convert_into_pi_from_theta(theta_0)\n",
    "pi_0"
   ]
  },
  {
   "cell_type": "code",
   "execution_count": 7,
   "id": "e42064af",
   "metadata": {},
   "outputs": [],
   "source": [
    "def get_next_s(pi, s):\n",
    "    direction = [\"up\", \"right\", \"down\", \"left\"]\n",
    "    next_direction = np.random.choice(direction, p = pi[s, :])\n",
    "    if next_direction == \"up\":\n",
    "        s_next = s - 3\n",
    "    elif next_direction == \"right\":\n",
    "        s_next = s + 1\n",
    "    elif next_direction == \"down\":\n",
    "        s_next = s + 3\n",
    "    elif next_direction == \"left\":\n",
    "        s_next = s - 1\n",
    "    return s_next\n",
    "  \n"
   ]
  },
  {
   "cell_type": "code",
   "execution_count": null,
   "id": "90a594e1",
   "metadata": {},
   "outputs": [],
   "source": [
    "def goal_maze(pi):\n",
    "    s = 0\n",
    "    state_history = [0]\n",
    "    while (1):\n",
    "        next_s = get_next_s(pi, s)\n",
    "        state_history.append(next_s)\n",
    "        if next_s == 8:\n",
    "            break\n",
    "        else:\n",
    "            s = next_s\n",
    "    return state_history\n",
    "  \n",
    "state_history = goal_maze(pi_0)\n",
    "print(state_history)\n",
    "print(\"迷宫的步数为\" + str(len(state_history) - 1) + \"步\")\n",
    "\n"
   ]
  }
 ],
 "metadata": {
  "kernelspec": {
   "display_name": "myownenv39",
   "language": "python",
   "name": "python3"
  },
  "language_info": {
   "codemirror_mode": {
    "name": "ipython",
    "version": 3
   },
   "file_extension": ".py",
   "mimetype": "text/x-python",
   "name": "python",
   "nbconvert_exporter": "python",
   "pygments_lexer": "ipython3",
   "version": "3.9.15"
  }
 },
 "nbformat": 4,
 "nbformat_minor": 5
}
